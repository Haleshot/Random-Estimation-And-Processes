{
  "cells": [
    {
      "cell_type": "code",
      "execution_count": 1,
      "metadata": {
        "colab": {
          "base_uri": "https://localhost:8080/",
          "height": 36
        },
        "id": "ejkvRZBO1_Ps",
        "outputId": "a6d1f460-6372-47f5-fbb9-53afb585a57e"
      },
      "outputs": [
        {
          "data": {
            "application/vnd.google.colaboratory.intrinsic+json": {
              "type": "string"
            },
            "text/plain": [
              "'\\nRPT prac 10 B3 I066 Srihari Thyagarajan 29th September\\n'"
            ]
          },
          "execution_count": 1,
          "metadata": {},
          "output_type": "execute_result"
        }
      ],
      "source": [
        "\"\"\"\n",
        "RPT prac 10 B3 I066 Srihari Thyagarajan 29th September\n",
        "\"\"\""
      ]
    },
    {
      "cell_type": "code",
      "execution_count": 16,
      "metadata": {
        "id": "35EeIqHG-qVf"
      },
      "outputs": [],
      "source": [
        "# Import libraries\n",
        "import numpy as np\n",
        "from sympy import symbols, solve\n",
        "import pandas as pd\n",
        "import scipy.stats as stats"
      ]
    },
    {
      "cell_type": "markdown",
      "metadata": {
        "id": "lYr4qcAT-yZS"
      },
      "source": [
        "Q.1 A sample size of 5 results in the sample values 9, 7, 1, 4, and 6.\n",
        "\n",
        "\n",
        "\n",
        "\n",
        "\n"
      ]
    },
    {
      "cell_type": "markdown",
      "metadata": {
        "id": "yTFiC174-7K-"
      },
      "source": [
        "a. What is the sample mean?"
      ]
    },
    {
      "cell_type": "code",
      "execution_count": 5,
      "metadata": {
        "colab": {
          "base_uri": "https://localhost:8080/"
        },
        "id": "uwywIUI0_D6W",
        "outputId": "c08456a9-1a17-43e1-bd4f-2160fbdfe2ca"
      },
      "outputs": [
        {
          "name": "stdout",
          "output_type": "stream",
          "text": [
            "The mean of the given list input is :  5.4\n"
          ]
        }
      ],
      "source": [
        "a1=9\n",
        "a2=7\n",
        "a3=1\n",
        "a4=4\n",
        "a5=6\n",
        "l = [a1, a2, a3, a4, a5]\n",
        "mean = np.mean(l)\n",
        "print(\"The mean of the given list input is : \", mean)"
      ]
    },
    {
      "cell_type": "markdown",
      "metadata": {
        "id": "2ppKHM6__CUR"
      },
      "source": [
        "b. What is the sample variance?"
      ]
    },
    {
      "cell_type": "code",
      "execution_count": 6,
      "metadata": {
        "colab": {
          "base_uri": "https://localhost:8080/"
        },
        "id": "nnQSp3gl_Eog",
        "outputId": "151a2ce7-15ee-46da-af5c-9c46b4ddd286"
      },
      "outputs": [
        {
          "name": "stdout",
          "output_type": "stream",
          "text": [
            "The Sample variance of the given list input is :  7.4399999999999995\n"
          ]
        }
      ],
      "source": [
        "var = np.var(l)\n",
        "print(\"The Sample variance of the given list input is : \", var)"
      ]
    },
    {
      "cell_type": "markdown",
      "metadata": {
        "id": "-PYWnNa-Ci5j"
      },
      "source": [
        "Unbiased estimate of sample variance is\n",
        "\n",
        "$\\hat{S}^{2}=\\frac{n}{n-1} S^{2}$"
      ]
    },
    {
      "cell_type": "markdown",
      "metadata": {
        "id": "MVe1eL_I_JCn"
      },
      "source": [
        "c. What is the unbiased estimate of the sample variance?"
      ]
    },
    {
      "cell_type": "markdown",
      "metadata": {
        "id": "aLFn9_Aa_KYz"
      },
      "source": [
        "Q. 2. The true mean of a quiz conducted in a class of 50 students is 70 points, and\n",
        "the true standard deviation is 12 points. Estimate the mean by sampling a\n",
        "subset of the scores, without replacement.\n"
      ]
    },
    {
      "cell_type": "markdown",
      "metadata": {
        "id": "GFafG2rKG2z0"
      },
      "source": [
        "${\\sigma^{2}_{\\overline{X}}}=\\frac{\\sigma^{2}_{X}}{n}(\\frac{N-n}{N-1})$"
      ]
    },
    {
      "cell_type": "markdown",
      "metadata": {
        "id": "UikE12Ze_RJl"
      },
      "source": [
        "\n",
        "a. What is the standard deviation of the sample mean if only 10 scores are\n",
        "used?"
      ]
    },
    {
      "cell_type": "code",
      "execution_count": 7,
      "metadata": {
        "colab": {
          "base_uri": "https://localhost:8080/"
        },
        "id": "mAIi6iZ6_a1o",
        "outputId": "dbe87a52-cee8-4f52-c43a-10b2b3665a2a"
      },
      "outputs": [
        {
          "data": {
            "text/plain": [
              "3.428571428571429"
            ]
          },
          "execution_count": 7,
          "metadata": {},
          "output_type": "execute_result"
        }
      ],
      "source": [
        "N = 50\n",
        "n = 10\n",
        "true_standard_dev = 12\n",
        "sd = ((true_standard_dev**2)/n)*((N-n)/(N-1))\n",
        "sd**(1/2)"
      ]
    },
    {
      "cell_type": "markdown",
      "metadata": {
        "id": "LocYQVLP_bWQ"
      },
      "source": [
        "b. How large should the sample size be for the standard deviation of the\n",
        "sample mean to be 1% of the true mean?"
      ]
    },
    {
      "cell_type": "code",
      "execution_count": 17,
      "metadata": {
        "colab": {
          "base_uri": "https://localhost:8080/"
        },
        "id": "jdMqAuYg_c_s",
        "outputId": "28774ae9-fd36-45da-e208-363ae23a17ee"
      },
      "outputs": [
        {
          "data": {
            "text/plain": [
              "[42.8545919885721]"
            ]
          },
          "execution_count": 17,
          "metadata": {},
          "output_type": "execute_result"
        }
      ],
      "source": [
        "# True mean = 70\n",
        "# 1% of 70 = 0.7\n",
        "\n",
        "k = symbols('k')\n",
        "expr = (((144/k) * ((50-k)/49)) ** (1/2)-0.7)\n",
        "sol = solve(expr)\n",
        "sol\n"
      ]
    },
    {
      "cell_type": "markdown",
      "metadata": {
        "id": "_I2x8Arc_eFN"
      },
      "source": [
        "Q.3. A random sample of size 81 is taken from a population that has a mean of 24 \n",
        "\n",
        "and variance 324. Use the central limit theorem to determine the probability that the sample mean lies between 23.9 and 24.2."
      ]
    },
    {
      "cell_type": "code",
      "execution_count": 9,
      "metadata": {
        "colab": {
          "base_uri": "https://localhost:8080/"
        },
        "id": "hzNNenTM_p8s",
        "outputId": "0947b9ec-b1b1-423e-8bae-08d3a3360181"
      },
      "outputs": [
        {
          "data": {
            "text/plain": [
              "array([-1.,  1.])"
            ]
          },
          "execution_count": 9,
          "metadata": {},
          "output_type": "execute_result"
        }
      ],
      "source": [
        "\n",
        "N = 81\n",
        "me = 24\n",
        "vr = 324\n",
        "# P(23.9<x<24.2)\n",
        "z1 = (23.9-24)/(18/9)\n",
        "z2 = (24.2-24)/(18/9)\n",
        "z1,z2\n",
        "\n",
        "stats.zscore([z1,z2])"
      ]
    },
    {
      "cell_type": "markdown",
      "metadata": {
        "id": "UN_ChoM5_qag"
      },
      "source": [
        "Q.4. A random number generator produces three-digit random numbers that\n",
        "are uniformly distributed between 0.000 and 0.999.\n"
      ]
    },
    {
      "cell_type": "markdown",
      "metadata": {
        "id": "0sDJI22r_xM4"
      },
      "source": [
        "a. If the generator produces the sequence of numbers 0.276, 0.123, 0.072,\n",
        "0.324, 0.815, 0.312, 0.432, 0.283, and 0.717, what is the sample mean?\n",
        "Aashray ans. 0.372\n"
      ]
    },
    {
      "cell_type": "code",
      "execution_count": 13,
      "metadata": {
        "colab": {
          "base_uri": "https://localhost:8080/"
        },
        "id": "poipmdZT_z0v",
        "outputId": "760b53b5-e6c6-4e18-e593-f0df55ee6ca6"
      },
      "outputs": [
        {
          "name": "stdout",
          "output_type": "stream",
          "text": [
            "0.3726666666666667\n"
          ]
        }
      ],
      "source": [
        "a = (0.276, 0.123, 0.072, 0.324, 0.815, 0.312, 0.432, 0.283, 0.717)\n",
        "lw = 0\n",
        "for i in a:\n",
        "  lw += i\n",
        "lw = lw/ (len(a))\n",
        "print(lw)"
      ]
    },
    {
      "cell_type": "markdown",
      "metadata": {
        "id": "ASzEXHAk_0Mh"
      },
      "source": [
        "b. What is the variance of the sample mean of numbers produced by the\n",
        "random number generator?\n"
      ]
    },
    {
      "cell_type": "code",
      "execution_count": 14,
      "metadata": {
        "colab": {
          "base_uri": "https://localhost:8080/"
        },
        "id": "B_6h3L6S_2lQ",
        "outputId": "18ca7491-3461-4d63-8541-7f801e8bdcc1"
      },
      "outputs": [
        {
          "name": "stdout",
          "output_type": "stream",
          "text": [
            "0.05487911111111111\n"
          ]
        }
      ],
      "source": [
        "var = 0\n",
        "for i in a:\n",
        "  var += (i - lw) ** 2\n",
        "var /= len(a)\n",
        "print(var)\n"
      ]
    },
    {
      "cell_type": "markdown",
      "metadata": {
        "id": "FLjVSdmn_26A"
      },
      "source": [
        "c. How large should the sample size be in order to obtain a sample mean\n",
        "whose standard deviation is no greater than 0.01?"
      ]
    },
    {
      "cell_type": "code",
      "execution_count": 18,
      "metadata": {
        "colab": {
          "base_uri": "https://localhost:8080/"
        },
        "id": "caVcjQLZcYo0",
        "outputId": "b19b4b8f-4486-4ba7-89f8-41dbfff77a40"
      },
      "outputs": [
        {
          "data": {
            "text/plain": [
              "6.1605"
            ]
          },
          "execution_count": 18,
          "metadata": {},
          "output_type": "execute_result"
        }
      ],
      "source": [
        "E = .37\n",
        "Z_alpha = 0.05\n",
        "sigma = 0.1\n",
        "n = 90\n",
        "Sample_size = (Z_alpha * E **2)/sigma * n\n",
        "Sample_size"
      ]
    },
    {
      "cell_type": "code",
      "execution_count": null,
      "metadata": {
        "id": "pmLW2eWjeC0T"
      },
      "outputs": [],
      "source": [
        "# End of practical session."
      ]
    }
  ],
  "metadata": {
    "colab": {
      "collapsed_sections": [],
      "provenance": []
    },
    "kernelspec": {
      "display_name": "Python 3.9.13 64-bit (microsoft store)",
      "language": "python",
      "name": "python3"
    },
    "language_info": {
      "name": "python",
      "version": "3.9.13"
    },
    "vscode": {
      "interpreter": {
        "hash": "d54e74f39523964468ddd45389c0a799405a589bb3c1541146a99e7e4fa4c367"
      }
    }
  },
  "nbformat": 4,
  "nbformat_minor": 0
}
