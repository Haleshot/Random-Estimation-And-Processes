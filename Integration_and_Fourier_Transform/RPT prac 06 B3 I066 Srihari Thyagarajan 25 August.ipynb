{
 "cells": [
  {
   "cell_type": "code",
   "execution_count": null,
   "id": "876b226e",
   "metadata": {},
   "outputs": [],
   "source": [
    "# Write a python program for a fixed t, in the interval (-3 π to 3 π) for any random process\n",
    "X(t) = A cos(wt) + B sin(wt)"
   ]
  },
  {
   "cell_type": "code",
   "execution_count": null,
   "id": "3e8a368c",
   "metadata": {},
   "outputs": [],
   "source": [
    "# A = 5 7 420 69 45\n",
    "# B = 3 4 88  18 77\n",
    "# w = 1400 2000 3000 9999 21000 "
   ]
  },
  {
   "cell_type": "code",
   "execution_count": 70,
   "id": "591f14d4",
   "metadata": {},
   "outputs": [],
   "source": [
    "# Import Libraries\n",
    "import numpy as np\n",
    "import matplotlib.pyplot as plt\n",
    "import math\n",
    "import cmath\n",
    "from sympy import *"
   ]
  },
  {
   "cell_type": "code",
   "execution_count": null,
   "id": "08dcc831",
   "metadata": {},
   "outputs": [],
   "source": [
    "\"\"\"\n",
    "Target for today:\n",
    "1. Plotting a graph for X(t) = Acos(wt) + Bsin(wt), where  varies from -3π to 3π using matplotlib and numpy\n",
    "\"\"\""
   ]
  },
  {
   "cell_type": "code",
   "execution_count": null,
   "id": "746445fd",
   "metadata": {},
   "outputs": [],
   "source": [
    "# 1. Plotting a graph for X(t) = Acos(wt) + Bsin(wt), where  varies from -3π to 3π\n",
    " \n",
    "t = np.linspace(-3 * np.pi, 3 * np.pi, 1000) # Plotting the graph for t = sin(t) where t varies\n",
    "\n",
    "# from -3π to 3π; 1000 denotes Linearly spaced numbers\n",
    "\n",
    "run = True\n",
    "while(run):\n",
    "    f = int(input(\"Enter the value for Frequency : \"))\n",
    "    A = int(input(\"Enter the value for A : \"))\n",
    "    B = int(input(\"Enter the value for B : \"))\n",
    "\n",
    "    w = 1/(2 * np.pi * f\n",
    "\n",
    "    plot = A * np.cos(w * t) + B * np.sin(w * t)\n",
    "\n",
    "    plt.title(\"Plotting X(t) = Acos(wt) + Bsin(wt), were t varies from -3π to 3π\")\n",
    "    plt.xlabel(\"X Axis\")\n",
    "    plt.ylabel(\"Y Axis\")\n",
    "\n",
    "    plt.plot(plot)\n",
    "    plt.show()\n",
    "    run = int(input(\"Enter 1 for continuing, 0 to quit : \"))"
   ]
  },
  {
   "cell_type": "code",
   "execution_count": null,
   "id": "2b02792b",
   "metadata": {},
   "outputs": [],
   "source": [
    "print(t)"
   ]
  },
  {
   "cell_type": "code",
   "execution_count": null,
   "id": "d3cd444a",
   "metadata": {},
   "outputs": [],
   "source": [
    "print(plot)"
   ]
  },
  {
   "cell_type": "code",
   "execution_count": 32,
   "id": "cd5c79f9",
   "metadata": {},
   "outputs": [],
   "source": [
    "# Integrate \n",
    "# 1. f(x) = x^2 from -2 to 5\n",
    "# 2. f(x) = x^2 * e^-x from 0 to ∞"
   ]
  },
  {
   "cell_type": "code",
   "execution_count": 37,
   "id": "b3d3d6e2",
   "metadata": {},
   "outputs": [
    {
     "data": {
      "text/latex": [
       "$\\displaystyle \\frac{133}{3}$"
      ],
      "text/plain": [
       "133/3"
      ]
     },
     "execution_count": 37,
     "metadata": {},
     "output_type": "execute_result"
    }
   ],
   "source": [
    "x, y = symbols('x y')\n",
    "integrate(x ** 2, (x, -2, 5)) # Limits of Integral of x from 0 to 5"
   ]
  },
  {
   "cell_type": "code",
   "execution_count": 35,
   "id": "d1286931",
   "metadata": {},
   "outputs": [
    {
     "data": {
      "text/latex": [
       "$\\displaystyle 2$"
      ],
      "text/plain": [
       "2"
      ]
     },
     "execution_count": 35,
     "metadata": {},
     "output_type": "execute_result"
    }
   ],
   "source": [
    "integrate(x ** 2 * exp(-x), (x, 0, np.inf)) # Limits of Integral of x from 0 to 5"
   ]
  },
  {
   "cell_type": "code",
   "execution_count": 43,
   "id": "268701e5",
   "metadata": {},
   "outputs": [
    {
     "data": {
      "text/plain": [
       "'f(x) = \\n        1, |x| < 1\\n        0, otherwise\\n'"
      ]
     },
     "execution_count": 43,
     "metadata": {},
     "output_type": "execute_result"
    }
   ],
   "source": [
    "# Fourier Transform and Inverse Fourier Transform\n",
    "s, t, w = symbols('s t w')\n",
    "\n",
    "\"\"\"f(x) = \n",
    "        1, |x| < 1\n",
    "        0, otherwise\n",
    "\"\"\""
   ]
  },
  {
   "cell_type": "code",
   "execution_count": 54,
   "id": "1e89419b",
   "metadata": {},
   "outputs": [
    {
     "data": {
      "text/latex": [
       "$\\displaystyle \\mathcal{F}_{t}\\left[\\left|{t}\\right|\\right]\\left(w\\right)$"
      ],
      "text/plain": [
       "FourierTransform(Abs(t), t, w)"
      ]
     },
     "execution_count": 54,
     "metadata": {},
     "output_type": "execute_result"
    }
   ],
   "source": [
    "fourier_transform(abs(t), t, w)"
   ]
  },
  {
   "cell_type": "code",
   "execution_count": 55,
   "id": "c93f4e03",
   "metadata": {},
   "outputs": [
    {
     "name": "stdout",
     "output_type": "stream",
     "text": [
      "<function fourier_transform at 0x0000018AEB7158B0>\n"
     ]
    }
   ],
   "source": [
    "print(fourier_transform)"
   ]
  },
  {
   "cell_type": "code",
   "execution_count": 58,
   "id": "37e3d0c2",
   "metadata": {},
   "outputs": [
    {
     "data": {
      "text/latex": [
       "$\\displaystyle - 6.28318530717959 \\mathcal{F}_{t}\\left[\\left|{t}\\right|\\right]\\left(w\\right)$"
      ],
      "text/plain": [
       "-6.28318530717959*FourierTransform(Abs(t), t, w)"
      ]
     },
     "execution_count": 58,
     "metadata": {},
     "output_type": "execute_result"
    }
   ],
   "source": [
    "# f = -2π * |t|\n",
    "fourier_transform(-2 * np.pi * abs(t), t, w)"
   ]
  },
  {
   "cell_type": "code",
   "execution_count": 72,
   "id": "2c2f035a",
   "metadata": {},
   "outputs": [
    {
     "data": {
      "text/latex": [
       "$\\displaystyle 0.398942280401433 \\left(\\begin{cases} - \\frac{i e^{i w}}{w} + \\frac{i e^{- i w}}{w} & \\text{for}\\: w > -\\infty \\wedge w < \\infty \\wedge w \\neq 0 \\\\2 & \\text{otherwise} \\end{cases}\\right)$"
      ],
      "text/plain": [
       "0.398942280401433*Piecewise((-I*exp(I*w)/w + I*exp(-I*w)/w, (w > -oo) & (w < oo) & Ne(w, 0)), (2, True))"
      ]
     },
     "execution_count": 72,
     "metadata": {},
     "output_type": "execute_result"
    }
   ],
   "source": [
    "j = sqrt(-1)\n",
    "1/sqrt(2*np.pi) * integrate(1 * exp(-j * w * x), (x, -1, 1))"
   ]
  },
  {
   "cell_type": "code",
   "execution_count": null,
   "id": "8aea6e41",
   "metadata": {},
   "outputs": [],
   "source": [
    "# End of the Practical Session"
   ]
  }
 ],
 "metadata": {
  "kernelspec": {
   "display_name": "Python 3.9.13 64-bit (microsoft store)",
   "language": "python",
   "name": "python3"
  },
  "language_info": {
   "codemirror_mode": {
    "name": "ipython",
    "version": 3
   },
   "file_extension": ".py",
   "mimetype": "text/x-python",
   "name": "python",
   "nbconvert_exporter": "python",
   "pygments_lexer": "ipython3",
   "version": "3.9.13"
  },
  "vscode": {
   "interpreter": {
    "hash": "d54e74f39523964468ddd45389c0a799405a589bb3c1541146a99e7e4fa4c367"
   }
  }
 },
 "nbformat": 4,
 "nbformat_minor": 5
}
