{
  "cells": [
    {
      "cell_type": "code",
      "execution_count": null,
      "metadata": {
        "id": "ZwLMUn2qU_0G"
      },
      "outputs": [],
      "source": [
        "# Srihari Thyagarajan RPT PRAC 12\n",
        "import numpy as np\n",
        "import matplotlib.pyplot as plt\n",
        "import random\n",
        "from sympy import *\n",
        "import statistics as st\n"
      ]
    },
    {
      "cell_type": "markdown",
      "metadata": {
        "id": "LO0RpNIRVS7D"
      },
      "source": [
        "Q.1\n",
        "\n",
        " (a) Fit a linear least-squares line to the data shown in Table \n",
        "\n",
        " (b) Estimate the value of y when x = 15.\n",
        "\n",
        "\n",
        "   x    3  5  6 8 9 11\n",
        "\n",
        "\n",
        "   y    2  3  4 6 5  8"
      ]
    },
    {
      "cell_type": "code",
      "execution_count": null,
      "metadata": {
        "colab": {
          "base_uri": "https://localhost:8080/",
          "height": 426
        },
        "id": "qcRlHMVDW0Wf",
        "outputId": "2fe5a009-76f5-4755-ea33-9586e385cb8b"
      },
      "outputs": [
        {
          "data": {
            "image/png": "[encoded data removed]",
            "text/plain": [
              "<Figure size 432x288 with 1 Axes>"
            ]
          },
          "metadata": {
            "needs_background": "light"
          },
          "output_type": "display_data"
        },
        {
          "name": "stdout",
          "output_type": "stream",
          "text": [
            "y=  -1/19  + 271/399 x\n",
            "y=  1348/133\n"
          ]
        },
        {
          "name": "stderr",
          "output_type": "stream",
          "text": [
            "/usr/local/lib/python3.7/dist-packages/sympy/core/relational.py:496: SymPyDeprecationWarning: \n",
            "\n",
            "Eq(expr) with rhs default to 0 has been deprecated since SymPy 1.5.\n",
            "Use Eq(expr, 0) instead. See\n",
            "https://github.com/sympy/sympy/issues/16587 for more info.\n",
            "\n",
            "  deprecated_since_version=\"1.5\"\n"
          ]
        }
      ],
      "source": [
        "a, b = symbols('a b')\n",
        "\n",
        "x=[3,5,6,8,9,11]\n",
        "y=[2,3,4,6,5,8]\n",
        "x_sum=sum(x)\n",
        "y_sum=sum(y)\n",
        "x_square_sum=0\n",
        "y_square_sum=0\n",
        "xy=0\n",
        "plt.scatter(x, y)\n",
        "plt.show()\n",
        "for i in x:\n",
        "  x_square_sum+=(i**2)\n",
        "for j in y:\n",
        "  y_square_sum+=(i**2)\n",
        "for i in range(0,len(x)):\n",
        "  xy+=(x[i]*y[i])\n",
        "eq1 = Eq(y_sum - (10*a) -(b*x_sum))\n",
        "eq2 = Eq(xy-(a*x_sum)-(b*x_square_sum))\n",
        "sol=solve((eq1,eq2), (a, b))\n",
        "\n",
        "# ∑y = an + b∑x\n",
        "\n",
        "# ∑xy = a∑x + b∑x2\n",
        "\n",
        "print(\"y= \",sol[a],\" +\",sol[b],\"x\")\n",
        "print(\"y= \",sol[a]+(sol[b]*15))"
      ]
    },
    {
      "cell_type": "markdown",
      "metadata": {
        "id": "G0MSAJIzVqyJ"
      },
      "source": [
        "Q.2 Data were collected for a random variable Y as a function of an-\n",
        "other random variable X. \n",
        "\n",
        "The recorded (x, y) pairs are as follows:\n",
        "(3, 2), (5, 3), (6, 4), (8, 6), (9, 5), and (11, 8).\n",
        "\n",
        "\n",
        "1.  Plot the scatter diagram for these data.\n",
        "\n",
        "2. Find the linear regression line of y on x that best fits these data\n",
        "\n",
        "3. Estimate the value of y when x = 15.\n",
        "\n",
        "\n"
      ]
    },
    {
      "cell_type": "code",
      "execution_count": null,
      "metadata": {
        "colab": {
          "base_uri": "https://localhost:8080/",
          "height": 301
        },
        "id": "4s1LtKtBWM5N",
        "outputId": "1c49dfe3-6bc8-4563-b574-0d9ad31c86fa"
      },
      "outputs": [
        {
          "data": {
            "image/png": "[encoded data removed]",
            "text/plain": [
              "<Figure size 432x288 with 1 Axes>"
            ]
          },
          "metadata": {
            "needs_background": "light"
          },
          "output_type": "display_data"
        },
        {
          "name": "stdout",
          "output_type": "stream",
          "text": [
            "y=  -1/19  + 271/399 x\n",
            "y=  1348/133\n"
          ]
        }
      ],
      "source": [
        "a, b = symbols('a b')\n",
        "\n",
        "x=[3,5,6,8,9,11]\n",
        "y=[2,3,4,6,5,8]\n",
        "x_sum=sum(x)\n",
        "y_sum=sum(y)\n",
        "x_square_sum=0\n",
        "y_square_sum=0\n",
        "xy=0\n",
        "plt.scatter(x, y)\n",
        "plt.show()\n",
        "\n",
        "for i in x:\n",
        "  x_square_sum+=(i**2)\n",
        "for j in y:\n",
        "  y_square_sum+=(i**2)\n",
        "for i in range(0,len(x)):\n",
        "  xy+=(x[i]*y[i])\n",
        "eq1 = Eq(y_sum - (10*a) -(b*x_sum))\n",
        "eq2 = Eq(xy-(a*x_sum)-(b*x_square_sum))\n",
        "sol=solve((eq1,eq2), (a, b))\n",
        "\n",
        "# ∑y = an + b∑x\n",
        "\n",
        "# ∑xy = a∑x + b∑x2\n",
        "\n",
        "print(\"y= \",sol[a],\" +\",sol[b],\"x\")\n",
        "print(\"y= \",sol[a]+(sol[b]*15))"
      ]
    },
    {
      "cell_type": "code",
      "execution_count": null,
      "metadata": {
        "id": "WooWXYBaGIcN"
      },
      "outputs": [],
      "source": [
        "# End of prac session"
      ]
    }
  ],
  "metadata": {
    "colab": {
      "collapsed_sections": [],
      "provenance": []
    },
    "kernelspec": {
      "display_name": "Python 3.9.13 64-bit (microsoft store)",
      "language": "python",
      "name": "python3"
    },
    "language_info": {
      "name": "python",
      "version": "3.9.13"
    },
    "vscode": {
      "interpreter": {
        "hash": "d54e74f39523964468ddd45389c0a799405a589bb3c1541146a99e7e4fa4c367"
      }
    }
  },
  "nbformat": 4,
  "nbformat_minor": 0
}
